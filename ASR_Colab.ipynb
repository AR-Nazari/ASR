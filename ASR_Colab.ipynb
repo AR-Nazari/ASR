{
  "cells": [
    {
      "cell_type": "markdown",
      "metadata": {
        "id": "view-in-github",
        "colab_type": "text"
      },
      "source": [
        "<a href=\"https://colab.research.google.com/github/AR-Nazari/ASR/blob/main/ASR_Colab.ipynb\" target=\"_parent\"><img src=\"https://colab.research.google.com/assets/colab-badge.svg\" alt=\"Open In Colab\"/></a>"
      ]
    },
    {
      "cell_type": "markdown",
      "source": [
        "# Model Test"
      ],
      "metadata": {
        "id": "4uU-uK5QSJXk"
      }
    },
    {
      "cell_type": "code",
      "execution_count": null,
      "metadata": {
        "id": "70g20jJzzdKp"
      },
      "outputs": [],
      "source": [
        "!pip install opensmile\n",
        "!pip install pydub\n",
        "!pip install hazm\n",
        "# !pip install parsivar\n",
        "!pip install spleeter"
      ]
    },
    {
      "cell_type": "code",
      "execution_count": null,
      "metadata": {
        "id": "ue8WYXup1lqA"
      },
      "outputs": [],
      "source": [
        "import main"
      ]
    },
    {
      "cell_type": "code",
      "execution_count": null,
      "metadata": {
        "id": "NrCg3W6z2Toq"
      },
      "outputs": [],
      "source": [
        "tst = main.pipeline('uploaded_audio/test.mp4', 'uploaded_audio/')"
      ]
    },
    {
      "cell_type": "code",
      "source": [
        "for i in tst:\n",
        "    print(f'{i[0]},  {i[1]}')"
      ],
      "metadata": {
        "id": "3MtD5fZfBmNd"
      },
      "execution_count": null,
      "outputs": []
    },
    {
      "cell_type": "markdown",
      "source": [
        "# API test"
      ],
      "metadata": {
        "id": "Kt2cSuSaSGsg"
      }
    },
    {
      "cell_type": "code",
      "source": [
        "!pip install fastapi uvicorn pyngrok python-multipart"
      ],
      "metadata": {
        "id": "DZfmokcHSL9I"
      },
      "execution_count": null,
      "outputs": []
    },
    {
      "cell_type": "code",
      "source": [
        "!ngrok authtoken ####"
      ],
      "metadata": {
        "colab": {
          "base_uri": "https://localhost:8080/"
        },
        "id": "K7sLWcRHSP1Z",
        "outputId": "fe672a51-9d43-470c-ce8a-3b80b2a08099"
      },
      "execution_count": 3,
      "outputs": [
        {
          "output_type": "stream",
          "name": "stdout",
          "text": [
            "Authtoken saved to configuration file: /root/.config/ngrok/ngrok.yml\n"
          ]
        }
      ]
    },
    {
      "cell_type": "code",
      "source": [
        "!ngrok config add-authtoken ###"
      ],
      "metadata": {
        "colab": {
          "base_uri": "https://localhost:8080/"
        },
        "id": "pOsMn3g_36Jg",
        "outputId": "20000e10-517e-4760-ad39-50c3d9bd2bce"
      },
      "execution_count": 4,
      "outputs": [
        {
          "output_type": "stream",
          "name": "stdout",
          "text": [
            "Authtoken saved to configuration file: /root/.config/ngrok/ngrok.yml\n"
          ]
        }
      ]
    },
    {
      "cell_type": "code",
      "source": [
        "from fastapi import FastAPI, UploadFile, File\n",
        "from fastapi.responses import HTMLResponse\n",
        "from pydantic import BaseModel\n",
        "import shutil\n",
        "import os"
      ],
      "metadata": {
        "id": "JgARi95tSZuJ"
      },
      "execution_count": 5,
      "outputs": []
    },
    {
      "cell_type": "code",
      "source": [
        "# import numpy as np\n",
        "# import GNet\n",
        "# import MyAudio\n",
        "# import MyText\n",
        "# from transformers import AutoModelForSpeechSeq2Seq, AutoProcessor"
      ],
      "metadata": {
        "id": "uUOBuUfPTFkE"
      },
      "execution_count": 2,
      "outputs": []
    },
    {
      "cell_type": "code",
      "source": [
        "# app = FastAPI()\n",
        "\n",
        "# AUDIO_UPLOAD_DIRECTORY = \"./uploaded_audio\"\n",
        "# os.makedirs(AUDIO_UPLOAD_DIRECTORY, exist_ok=True)\n",
        "\n",
        "# @app.post('/test_audio/')\n",
        "# async def test_audio(file: UploadFile = File(...)):\n",
        "\n",
        "#     saved_file_path = os.path.join(AUDIO_UPLOAD_DIRECTORY, file.filename)\n",
        "\n",
        "#     with open(saved_file_path, \"wb\") as buffer:\n",
        "#         shutil.copyfileobj(file.file, buffer)\n",
        "\n",
        "#     chunks = MyAudio.pipe(saved_file_path, AUDIO_UPLOAD_DIRECTORY)\n",
        "\n",
        "#     return {'file read': True,\n",
        "#             'audio pipeline completion': True,\n",
        "#             'number of chunks': len(chunks)}"
      ],
      "metadata": {
        "id": "AL6SJmRsTPXY"
      },
      "execution_count": 3,
      "outputs": []
    },
    {
      "cell_type": "code",
      "source": [
        "app = FastAPI()\n",
        "\n",
        "@app.get(\"/\", response_class=HTMLResponse)\n",
        "async def root():\n",
        "    html_content = \"\"\"\n",
        "    <html>\n",
        "        <head>\n",
        "            <title>API Home</title>\n",
        "        </head>\n",
        "        <body>\n",
        "            <h1>Welcome to the API</h1>\n",
        "            <p>Access the API documentation <a href=\"/docs\">here</a>.</p>\n",
        "        </body>\n",
        "    </html>\n",
        "    \"\"\"\n",
        "    return html_content\n",
        "\n",
        "# Define the response model\n",
        "class TranscriptionResponse(BaseModel):\n",
        "    transcription: str\n",
        "    gender: str\n",
        "\n",
        "# The directory where uploaded audio files will be saved\n",
        "AUDIO_UPLOAD_DIRECTORY = \"./uploaded_audio\"\n",
        "\n",
        "# Ensure the directories exist\n",
        "os.makedirs(AUDIO_UPLOAD_DIRECTORY, exist_ok=True)\n",
        "\n",
        "@app.post(\"/upload_and_process_audio/\")\n",
        "async def upload_and_process_audio(file: UploadFile = File(...)):\n",
        "    # Save the uploaded file with its original filename and format\n",
        "    saved_file_path = os.path.join(AUDIO_UPLOAD_DIRECTORY, file.filename)\n",
        "\n",
        "    with open(saved_file_path, \"wb\") as buffer:\n",
        "        shutil.copyfileobj(file.file, buffer)\n",
        "\n",
        "    # Use the pipeline to process the saved audio file\n",
        "    results = await main.pipeline(saved_file_path, AUDIO_UPLOAD_DIRECTORY)\n",
        "\n",
        "    # Format the response (transcriptions and gender classifications)\n",
        "    response = [{\"transcription\": item[0], \"gender\": item[1]} for item in results]\n",
        "\n",
        "    return {\"results\": response}"
      ],
      "metadata": {
        "id": "XY11SCXKt3RR"
      },
      "execution_count": 6,
      "outputs": []
    },
    {
      "cell_type": "code",
      "source": [
        "from pyngrok import ngrok\n",
        "import uvicorn\n",
        "import nest_asyncio"
      ],
      "metadata": {
        "id": "ZtuLWRp0TfhJ"
      },
      "execution_count": 7,
      "outputs": []
    },
    {
      "cell_type": "code",
      "source": [
        "# Apply the nest_asyncio patch to allow multiple event loops\n",
        "nest_asyncio.apply()\n",
        "\n",
        "# Setup a tunnel to the FastAPI server\n",
        "public_url = ngrok.connect(8000, \"http\")\n",
        "print(f\"Public URL: {public_url}\")\n",
        "\n",
        "# Run FastAPI with uvicorn\n",
        "uvicorn.run(app, host=\"0.0.0.0\", port=8000, timeout_keep_alive=1200)"
      ],
      "metadata": {
        "id": "iG02jZoOTp_Y"
      },
      "execution_count": null,
      "outputs": []
    },
    {
      "cell_type": "code",
      "source": [
        "ngrok.get_tunnels()"
      ],
      "metadata": {
        "colab": {
          "base_uri": "https://localhost:8080/"
        },
        "id": "uE2I-0P7d9Fj",
        "outputId": "73173aeb-bfb2-47da-e7f7-490666d9949a"
      },
      "execution_count": 7,
      "outputs": [
        {
          "output_type": "execute_result",
          "data": {
            "text/plain": [
              "[]"
            ]
          },
          "metadata": {},
          "execution_count": 7
        }
      ]
    },
    {
      "cell_type": "code",
      "source": [
        "for tunnel in ngrok.get_tunnels():\n",
        "    ngrok.disconnect(tunnel.public_url)"
      ],
      "metadata": {
        "id": "k9I4XaFze4Qt"
      },
      "execution_count": 8,
      "outputs": []
    }
  ],
  "metadata": {
    "colab": {
      "provenance": [],
      "gpuType": "T4",
      "authorship_tag": "ABX9TyM9/OOFI8hvSzoehqVJpCpe",
      "include_colab_link": true
    },
    "kernelspec": {
      "display_name": "Python 3",
      "name": "python3"
    },
    "language_info": {
      "name": "python"
    },
    "accelerator": "GPU"
  },
  "nbformat": 4,
  "nbformat_minor": 0
}