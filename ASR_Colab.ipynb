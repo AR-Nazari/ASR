{
  "cells": [
    {
      "cell_type": "markdown",
      "metadata": {
        "id": "view-in-github",
        "colab_type": "text"
      },
      "source": [
        "<a href=\"https://colab.research.google.com/github/AR-Nazari/ASR/blob/main/ASR_Colab.ipynb\" target=\"_parent\"><img src=\"https://colab.research.google.com/assets/colab-badge.svg\" alt=\"Open In Colab\"/></a>"
      ]
    },
    {
      "cell_type": "code",
      "execution_count": null,
      "metadata": {
        "id": "70g20jJzzdKp"
      },
      "outputs": [],
      "source": [
        "!pip install opensmile\n",
        "!pip install pydub\n",
        "!pip install spleeter\n",
        "!pip install hazm\n",
        "# !pip install parsivar"
      ]
    },
    {
      "cell_type": "code",
      "execution_count": null,
      "metadata": {
        "id": "ue8WYXup1lqA"
      },
      "outputs": [],
      "source": [
        "import main"
      ]
    },
    {
      "cell_type": "code",
      "execution_count": 3,
      "metadata": {
        "colab": {
          "base_uri": "https://localhost:8080/"
        },
        "id": "NrCg3W6z2Toq",
        "outputId": "48775382-5b63-4680-8734-b965456eee02"
      },
      "outputs": [
        {
          "output_type": "stream",
          "name": "stderr",
          "text": [
            "/usr/lib/python3.10/multiprocessing/popen_fork.py:66: RuntimeWarning: os.fork() was called. os.fork() is incompatible with multithreaded code, and JAX is multithreaded, so this will likely lead to a deadlock.\n",
            "  self.pid = os.fork()\n"
          ]
        },
        {
          "output_type": "stream",
          "name": "stdout",
          "text": [
            "INFO:spleeter:Downloading model archive https://github.com/deezer/spleeter/releases/download/v1.4.0/2stems.tar.gz\n"
          ]
        },
        {
          "output_type": "stream",
          "name": "stderr",
          "text": [
            "INFO:spleeter:Downloading model archive https://github.com/deezer/spleeter/releases/download/v1.4.0/2stems.tar.gz\n"
          ]
        },
        {
          "output_type": "stream",
          "name": "stdout",
          "text": [
            "INFO:spleeter:Validating archive checksum\n"
          ]
        },
        {
          "output_type": "stream",
          "name": "stderr",
          "text": [
            "INFO:spleeter:Validating archive checksum\n"
          ]
        },
        {
          "output_type": "stream",
          "name": "stdout",
          "text": [
            "INFO:spleeter:Extracting downloaded 2stems archive\n"
          ]
        },
        {
          "output_type": "stream",
          "name": "stderr",
          "text": [
            "INFO:spleeter:Extracting downloaded 2stems archive\n"
          ]
        },
        {
          "output_type": "stream",
          "name": "stdout",
          "text": [
            "INFO:spleeter:2stems model file(s) extracted\n"
          ]
        },
        {
          "output_type": "stream",
          "name": "stderr",
          "text": [
            "INFO:spleeter:2stems model file(s) extracted\n",
            "WARNING:tensorflow:From /usr/local/lib/python3.10/dist-packages/spleeter/separator.py:146: calling DatasetV2.from_generator (from tensorflow.python.data.ops.dataset_ops) with output_types is deprecated and will be removed in a future version.\n",
            "Instructions for updating:\n",
            "Use output_signature instead\n",
            "WARNING:tensorflow:From /usr/local/lib/python3.10/dist-packages/spleeter/separator.py:146: calling DatasetV2.from_generator (from tensorflow.python.data.ops.dataset_ops) with output_shapes is deprecated and will be removed in a future version.\n",
            "Instructions for updating:\n",
            "Use output_signature instead\n",
            "WARNING:tensorflow:From /usr/local/lib/python3.10/dist-packages/keras/layers/normalization/batch_normalization.py:514: _colocate_with (from tensorflow.python.framework.ops) is deprecated and will be removed in a future version.\n",
            "Instructions for updating:\n",
            "Colocations handled automatically by placer.\n"
          ]
        },
        {
          "output_type": "stream",
          "name": "stdout",
          "text": [
            "INFO:spleeter:File TestAudio/test/vocals.wav written succesfully\n"
          ]
        },
        {
          "output_type": "stream",
          "name": "stderr",
          "text": [
            "INFO:spleeter:File TestAudio/test/vocals.wav written succesfully\n"
          ]
        },
        {
          "output_type": "stream",
          "name": "stdout",
          "text": [
            "INFO:spleeter:File TestAudio/test/accompaniment.wav written succesfully\n"
          ]
        },
        {
          "output_type": "stream",
          "name": "stderr",
          "text": [
            "INFO:spleeter:File TestAudio/test/accompaniment.wav written succesfully\n",
            "The attention mask is not set and cannot be inferred from input because pad token is same as eos token. As a consequence, you may observe unexpected behavior. Please pass your input's `attention_mask` to obtain reliable results.\n"
          ]
        }
      ],
      "source": [
        "tst = main.pipeline('TestAudio/test.mp4', 'TestAudio/')"
      ]
    },
    {
      "cell_type": "code",
      "source": [
        "for i in tst:\n",
        "    print(f'{i[0]},  {i[1]}')"
      ],
      "metadata": {
        "colab": {
          "base_uri": "https://localhost:8080/"
        },
        "id": "3MtD5fZfBmNd",
        "outputId": "1ebdfba7-ef0a-4509-baad-f507963c80f4"
      },
      "execution_count": 5,
      "outputs": [
        {
          "output_type": "stream",
          "name": "stdout",
          "text": [
            "کریم‌خان زند و سلسله زنده,  male speaker\n",
            "موسیقی,  male speaker\n",
            "طایفه زندگیه در اطراف ملایر ساکن بودن اما بخشی از آنان به خراسان کوچانده شده,  male speaker\n",
            "پس از قتل نادر کرین خان که خود جز استپاهیان نادر بود زندیه ساکن خراسان را به اطراف ملایر بازگردند و با حسن خلقی که داشت در قلوب مردم نفردند,  male speaker\n",
            "مدتی بعد با علی مردان خان بختیاری علیه عبول فعت خان بختیاری که در اسفهان حکومت می‌کرد متحد شد و پس از شکست او فردی به نام عبوت راب از اولاد سفرگیره به سلطنت منصوب کرد و عملن خود کارها را بدهد,  male speaker\n",
            "مدتی بعد بر اثر حسادت علی مردان خان به موقعیت و محبوبیت کریم‌خان بین آنان نزا در گرفت که منجر به حصف رقیب شد و کریم‌خان توانست با استقلال بر صفحات جنوبی حکم براد,  male speaker\n",
            "خانزند در این مرحله دو دشمن قوی دیگر پیش را دارد,  male speaker\n",
            "آزادخان افغان محمد حسن خان قاجار آزادخان افغان که بر آزربایجان تسلط داشت در نزدیک قزمین شکست سختی بر کریم‌خان وارد کرد و خان زند را مجبور به رها کردن اسفهان و شیرازهان,  male speaker\n",
            "کریم‌خان خیلی زود توانه است شکست خود را جبران,  male speaker\n",
            "وی تی جنگی در ۱۱۸۷ آزاد خان را به کلی شکست داد و او پس از مدتی به خان زند پناه آورد و مورد التاف و محبت او قرار داد,  male speaker\n",
            "پس از آزادخان نوبت به محمد حسن خان قاجار رسید که رقیبی قدرتمند,  male speaker\n",
            "محمد حسن خان ابتدا موفق شد اسفهان را تصرف و به سمت شیراز حرکت کند و اون شهر را به محاصر در آنجایید,  male speaker\n",
            "مقاومت مردمی و کمی امکانات سپاه محمد حسن خان را متفرق کرد و بهی مجبور شد به مازندران بازگردد,  male speaker\n"
          ]
        }
      ]
    }
  ],
  "metadata": {
    "colab": {
      "provenance": [],
      "gpuType": "T4",
      "authorship_tag": "ABX9TyOyw+l8hb4ptzgVWqrEB/jM",
      "include_colab_link": true
    },
    "kernelspec": {
      "display_name": "Python 3",
      "name": "python3"
    },
    "language_info": {
      "name": "python"
    },
    "accelerator": "GPU"
  },
  "nbformat": 4,
  "nbformat_minor": 0
}