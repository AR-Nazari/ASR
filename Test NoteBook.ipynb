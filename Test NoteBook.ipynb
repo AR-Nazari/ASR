{
 "cells": [
  {
   "cell_type": "code",
   "execution_count": 1,
   "metadata": {},
   "outputs": [],
   "source": [
    "import torch\n",
    "import GNet"
   ]
  },
  {
   "cell_type": "code",
   "execution_count": 2,
   "metadata": {},
   "outputs": [],
   "source": [
    "m = GNet.GNet_MLP()"
   ]
  },
  {
   "cell_type": "code",
   "execution_count": 21,
   "metadata": {},
   "outputs": [
    {
     "name": "stdout",
     "output_type": "stream",
     "text": [
      "Loaded model weights from last_epoch_net.pth.\n"
     ]
    }
   ],
   "source": [
    "m = GNet.ModelLoader(GNet.ModelType.last_epoch)"
   ]
  },
  {
   "cell_type": "code",
   "execution_count": 22,
   "metadata": {},
   "outputs": [
    {
     "data": {
      "text/plain": [
       "tensor([[0.3321, 0.6679],\n",
       "        [0.3459, 0.6541],\n",
       "        [0.3431, 0.6569],\n",
       "        [0.3364, 0.6636],\n",
       "        [0.3386, 0.6614],\n",
       "        [0.3376, 0.6624],\n",
       "        [0.3401, 0.6599],\n",
       "        [0.3463, 0.6537],\n",
       "        [0.3445, 0.6555],\n",
       "        [0.3405, 0.6595]])"
      ]
     },
     "execution_count": 22,
     "metadata": {},
     "output_type": "execute_result"
    }
   ],
   "source": [
    "m.generate(torch.rand((10,988)))"
   ]
  },
  {
   "cell_type": "code",
   "execution_count": 5,
   "metadata": {},
   "outputs": [],
   "source": [
    "import librosa"
   ]
  },
  {
   "cell_type": "code",
   "execution_count": 6,
   "metadata": {},
   "outputs": [],
   "source": [
    "a, b = librosa.load('D1738416T14198969(Web)_[cut_111sec].mp3')\n",
    "a = librosa.resample(a, orig_sr=b, target_sr=16000)"
   ]
  },
  {
   "cell_type": "code",
   "execution_count": 7,
   "metadata": {},
   "outputs": [],
   "source": [
    "t = a[:16000 * 5]"
   ]
  },
  {
   "cell_type": "code",
   "execution_count": 8,
   "metadata": {},
   "outputs": [],
   "source": [
    "process = GNet.WaveFormProcess()"
   ]
  },
  {
   "cell_type": "code",
   "execution_count": 9,
   "metadata": {},
   "outputs": [],
   "source": [
    "n = process.split_audio(a)"
   ]
  },
  {
   "cell_type": "code",
   "execution_count": 10,
   "metadata": {},
   "outputs": [],
   "source": [
    "import numpy as np"
   ]
  },
  {
   "cell_type": "code",
   "execution_count": 11,
   "metadata": {},
   "outputs": [],
   "source": [
    "cc = np.array(n)"
   ]
  },
  {
   "cell_type": "code",
   "execution_count": 12,
   "metadata": {},
   "outputs": [
    {
     "data": {
      "text/plain": [
       "(23, 80000)"
      ]
     },
     "execution_count": 12,
     "metadata": {},
     "output_type": "execute_result"
    }
   ],
   "source": [
    "cc.shape"
   ]
  },
  {
   "cell_type": "code",
   "execution_count": 17,
   "metadata": {},
   "outputs": [
    {
     "data": {
      "text/plain": [
       "tensor([[2.7770e-01, 0.0000e+00, 2.7770e-01,  ..., 0.0000e+00, 3.0600e-02,\n",
       "         1.8068e-02],\n",
       "        [5.5560e-02, 3.5454e-04, 5.5560e-02,  ..., 0.0000e+00, 0.0000e+00,\n",
       "         0.0000e+00],\n",
       "        [9.4432e-02, 1.1609e-03, 9.4432e-02,  ..., 0.0000e+00, 0.0000e+00,\n",
       "         0.0000e+00],\n",
       "        ...,\n",
       "        [5.7025e-02, 2.1463e+00, 5.6976e-02,  ..., 0.0000e+00, 4.6203e-03,\n",
       "         2.7281e-03],\n",
       "        [6.8357e-02, 5.3117e-03, 6.8357e-02,  ..., 6.5788e-02, 2.1928e-01,\n",
       "         1.6516e-01],\n",
       "        [1.4118e-01, 0.0000e+00, 1.4118e-01,  ..., 0.0000e+00, 0.0000e+00,\n",
       "         0.0000e+00]])"
      ]
     },
     "execution_count": 17,
     "metadata": {},
     "output_type": "execute_result"
    }
   ],
   "source": [
    "torch.tensor(process.feature(cc))"
   ]
  },
  {
   "cell_type": "code",
   "execution_count": 18,
   "metadata": {},
   "outputs": [
    {
     "data": {
      "text/plain": [
       "tensor([[2.7770e-01, 0.0000e+00, 2.7770e-01,  ..., 0.0000e+00, 3.0600e-02,\n",
       "         1.8068e-02],\n",
       "        [5.5560e-02, 3.5454e-04, 5.5560e-02,  ..., 0.0000e+00, 0.0000e+00,\n",
       "         0.0000e+00],\n",
       "        [9.4432e-02, 1.1609e-03, 9.4432e-02,  ..., 0.0000e+00, 0.0000e+00,\n",
       "         0.0000e+00],\n",
       "        ...,\n",
       "        [5.7025e-02, 2.1463e+00, 5.6976e-02,  ..., 0.0000e+00, 4.6203e-03,\n",
       "         2.7281e-03],\n",
       "        [6.8357e-02, 5.3117e-03, 6.8357e-02,  ..., 6.5788e-02, 2.1928e-01,\n",
       "         1.6516e-01],\n",
       "        [1.4118e-01, 0.0000e+00, 1.4118e-01,  ..., 0.0000e+00, 0.0000e+00,\n",
       "         0.0000e+00]])"
      ]
     },
     "execution_count": 18,
     "metadata": {},
     "output_type": "execute_result"
    }
   ],
   "source": [
    "process.pipe(a)"
   ]
  },
  {
   "cell_type": "code",
   "execution_count": 25,
   "metadata": {},
   "outputs": [
    {
     "data": {
      "text/plain": [
       "tensor(1.)"
      ]
     },
     "execution_count": 25,
     "metadata": {},
     "output_type": "execute_result"
    }
   ],
   "source": [
    "m.generate(process.pipe(a)).argmax(-1)"
   ]
  }
 ],
 "metadata": {
  "kernelspec": {
   "display_name": "Python 3",
   "language": "python",
   "name": "python3"
  },
  "language_info": {
   "codemirror_mode": {
    "name": "ipython",
    "version": 3
   },
   "file_extension": ".py",
   "mimetype": "text/x-python",
   "name": "python",
   "nbconvert_exporter": "python",
   "pygments_lexer": "ipython3",
   "version": "3.12.3"
  }
 },
 "nbformat": 4,
 "nbformat_minor": 2
}
